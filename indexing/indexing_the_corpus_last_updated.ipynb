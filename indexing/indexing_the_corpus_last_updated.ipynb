{
  "cells": [
    {
      "cell_type": "code",
      "execution_count": null,
      "id": "232eb573",
      "metadata": {
        "id": "232eb573",
        "outputId": "24e60ac3-f49d-4b08-9494-b3281acd6d20"
      },
      "outputs": [
        {
          "name": "stdout",
          "output_type": "stream",
          "text": [
            "NAME          PLATFORM  WORKER_COUNT  PREEMPTIBLE_WORKER_COUNT  STATUS   ZONE           SCHEDULED_DELETE\r\n",
            "cluster-6311  GCE       4                                       RUNNING  us-central1-a\r\n"
          ]
        }
      ],
      "source": [
        "\n",
        "# if the following command generates an error, you probably didn't enable \n",
        "# the cluster security option \"Allow API access to all Google Cloud services\"\n",
        "# under Manage Security → Project Access when setting up the cluster\n",
        "!gcloud dataproc clusters list --region us-central1"
      ]
    },
    {
      "cell_type": "code",
      "execution_count": null,
      "id": "16654f70",
      "metadata": {
        "id": "16654f70",
        "outputId": "1aa014c3-82e3-4dab-8c14-48a905b113d0"
      },
      "outputs": [
        {
          "name": "stdout",
          "output_type": "stream",
          "text": [
            "\u001b[33mWARNING: Running pip as the 'root' user can result in broken permissions and conflicting behaviour with the system package manager. It is recommended to use a virtual environment instead: https://pip.pypa.io/warnings/venv\u001b[0m\u001b[33m\n",
            "\u001b[0m\u001b[33mWARNING: Running pip as the 'root' user can result in broken permissions and conflicting behaviour with the system package manager. It is recommended to use a virtual environment instead: https://pip.pypa.io/warnings/venv\u001b[0m\u001b[33m\n",
            "\u001b[0m"
          ]
        }
      ],
      "source": [
        "!pip install -q google-cloud-storage==1.43.0\n",
        "!pip install -q graphframes"
      ]
    },
    {
      "cell_type": "code",
      "execution_count": null,
      "id": "a66955bc",
      "metadata": {
        "id": "a66955bc",
        "outputId": "05325745-5ad5-4f5e-ff34-279730c34ec1"
      },
      "outputs": [
        {
          "name": "stderr",
          "output_type": "stream",
          "text": [
            "[nltk_data] Downloading package stopwords to /root/nltk_data...\n",
            "[nltk_data]   Package stopwords is already up-to-date!\n"
          ]
        },
        {
          "data": {
            "text/plain": [
              "True"
            ]
          },
          "execution_count": 4,
          "metadata": {},
          "output_type": "execute_result"
        }
      ],
      "source": [
        "import pyspark\n",
        "import sys\n",
        "from collections import Counter, OrderedDict, defaultdict\n",
        "import itertools\n",
        "from itertools import islice, count, groupby\n",
        "import pandas as pd\n",
        "import os\n",
        "import re\n",
        "from operator import itemgetter\n",
        "import nltk\n",
        "from nltk.stem.porter import *\n",
        "from nltk.corpus import stopwords\n",
        "from time import time\n",
        "from pathlib import Path\n",
        "import pickle\n",
        "import pandas as pd\n",
        "from google.cloud import storage\n",
        "\n",
        "import hashlib\n",
        "def _hash(s):\n",
        "    return hashlib.blake2b(bytes(s, encoding='utf8'), digest_size=5).hexdigest()\n",
        "\n",
        "nltk.download('stopwords')"
      ]
    },
    {
      "cell_type": "code",
      "execution_count": null,
      "id": "942b99b1",
      "metadata": {
        "id": "942b99b1",
        "outputId": "9bd41acb-c30d-4e59-aade-24619dd27ffa"
      },
      "outputs": [
        {
          "name": "stdout",
          "output_type": "stream",
          "text": [
            "-rw-r--r-- 1 root root 247882 Jan  9 10:30 /usr/lib/spark/jars/graphframes-0.8.2-spark3.1-s_2.12.jar\r\n"
          ]
        }
      ],
      "source": [
        "\n",
        "# if nothing prints here you forgot to include the initialization script when starting the cluster\n",
        "!ls -l /usr/lib/spark/jars/graph*"
      ]
    },
    {
      "cell_type": "code",
      "execution_count": null,
      "id": "dd5e8519",
      "metadata": {
        "id": "dd5e8519"
      },
      "outputs": [],
      "source": [
        "from pyspark.sql import *\n",
        "from pyspark.sql.functions import *\n",
        "from pyspark import SparkContext, SparkConf, SparkFiles\n",
        "from pyspark.sql import SQLContext\n",
        "from graphframes import *"
      ]
    },
    {
      "cell_type": "code",
      "execution_count": null,
      "id": "9746f0f0",
      "metadata": {
        "id": "9746f0f0",
        "outputId": "188078cc-5d74-4f75-97aa-2c25b26dbff5"
      },
      "outputs": [
        {
          "data": {
            "text/html": [
              "\n",
              "            <div>\n",
              "                <p><b>SparkSession - hive</b></p>\n",
              "                \n",
              "        <div>\n",
              "            <p><b>SparkContext</b></p>\n",
              "\n",
              "            <p><a href=\"http://cluster-6311-m.c.stable-apogee-366911.internal:45297\">Spark UI</a></p>\n",
              "\n",
              "            <dl>\n",
              "              <dt>Version</dt>\n",
              "                <dd><code>v3.1.3</code></dd>\n",
              "              <dt>Master</dt>\n",
              "                <dd><code>yarn</code></dd>\n",
              "              <dt>AppName</dt>\n",
              "                <dd><code>PySparkShell</code></dd>\n",
              "            </dl>\n",
              "        </div>\n",
              "        \n",
              "            </div>\n",
              "        "
            ],
            "text/plain": [
              "<pyspark.sql.session.SparkSession at 0x7f904f161cd0>"
            ]
          },
          "execution_count": 7,
          "metadata": {},
          "output_type": "execute_result"
        }
      ],
      "source": [
        "\n",
        "spark"
      ]
    },
    {
      "cell_type": "code",
      "execution_count": null,
      "id": "9fc52c04",
      "metadata": {
        "id": "9fc52c04"
      },
      "outputs": [],
      "source": [
        "\n",
        "# Put your bucket name below and make sure you can access it without an error\n",
        "bucket_name = '205915135'\n",
        "full_path = f\"gs://{bucket_name}/\"\n",
        "paths=[]\n",
        "\n",
        "client = storage.Client()\n",
        "blobs = client.list_blobs(bucket_name)\n",
        "for b in blobs:\n",
        "    if b.name != 'graphframes.sh':\n",
        "        paths.append(full_path+b.name)"
      ]
    },
    {
      "cell_type": "markdown",
      "id": "acd2c62f",
      "metadata": {
        "id": "acd2c62f"
      },
      "source": [
        "Inverted Index"
      ]
    },
    {
      "cell_type": "code",
      "execution_count": null,
      "id": "c88dbefb",
      "metadata": {
        "id": "c88dbefb",
        "outputId": "e8e5563d-24a7-4c47-efdc-d20bcacbeca9"
      },
      "outputs": [
        {
          "name": "stdout",
          "output_type": "stream",
          "text": [
            "inverted_index_gcp.py\r\n"
          ]
        }
      ],
      "source": [
        "# if nothing prints here you forgot to upload the file inverted_index_gcp.py to the home dir\n",
        "%cd -q /home/dataproc\n",
        "!ls inverted_index_gcp.py"
      ]
    },
    {
      "cell_type": "code",
      "execution_count": null,
      "id": "2b94b7f5",
      "metadata": {
        "id": "2b94b7f5"
      },
      "outputs": [],
      "source": [
        "\n",
        "# adding our python module to the cluster\n",
        "sc.addFile(\"/home/dataproc/inverted_index_gcp.py\")\n",
        "sys.path.insert(0,SparkFiles.getRootDirectory())"
      ]
    },
    {
      "cell_type": "code",
      "execution_count": null,
      "id": "b085fd11",
      "metadata": {
        "id": "b085fd11"
      },
      "outputs": [],
      "source": [
        "from inverted_index_gcp import *\n",
        "TUPLE_SIZE = 6\n",
        "TF_MASK = 2 ** 16 - 1 # Masking the 16 low bits of an integer\n",
        "from contextlib import closing\n",
        "\n",
        "def read_posting_list(inverted, w,file_name):\n",
        "  with closing(MultiFileReader()) as reader:\n",
        "    locs = inverted.posting_locs[w]\n",
        "    locs = [(file_name + lo[0], lo[1]) for lo in locs]\n",
        "    b = reader.read(locs, inverted.df[w] * TUPLE_SIZE)\n",
        "    posting_list = []\n",
        "    for i in range(inverted.df[w]):\n",
        "      doc_id = int.from_bytes(b[i*TUPLE_SIZE:i*TUPLE_SIZE+4], 'big')\n",
        "      tf = int.from_bytes(b[i*TUPLE_SIZE+4:(i+1)*TUPLE_SIZE], 'big')\n",
        "      posting_list.append((doc_id, tf))\n",
        "    return posting_list"
      ]
    },
    {
      "cell_type": "code",
      "execution_count": null,
      "id": "410865fc",
      "metadata": {
        "id": "410865fc"
      },
      "outputs": [],
      "source": [
        "english_stopwords = frozenset(stopwords.words('english'))\n",
        "corpus_stopwords = [\"category\", \"references\", \"also\", \"external\", \"links\", \n",
        "                    \"may\", \"first\", \"see\", \"history\", \"people\", \"one\", \"two\", \n",
        "                    \"part\", \"thumb\", \"including\", \"second\", \"following\", \n",
        "                    \"many\", \"however\", \"would\", \"became\"]\n",
        "\n",
        "all_stopwords = english_stopwords.union(corpus_stopwords)\n",
        "RE_WORD = re.compile(r\"\"\"[\\#\\@\\w](['\\-]?\\w){2,24}\"\"\", re.UNICODE)\n",
        "\n",
        "NUM_BUCKETS = 124\n",
        "def token2bucket_id(token):\n",
        "  return int(_hash(token),16) % NUM_BUCKETS\n",
        "\n",
        "# PLACE YOUR CODE HERE\n",
        "def word_count(text, id):\n",
        "  ''' Count the frequency of each word in `text` (tf) that is not included in \n",
        "  `all_stopwords` and return entries that will go into our posting lists. \n",
        "  Parameters:\n",
        "  -----------\n",
        "    text: str\n",
        "      Text of one document\n",
        "    id: int\n",
        "      Document id\n",
        "  Returns:\n",
        "  --------\n",
        "    List of tuples\n",
        "      A list of (token, (doc_id, tf)) pairs \n",
        "      for example: [(\"Anarchism\", (12, 5)), ...]\n",
        "  '''\n",
        "  tokens = [token.group() for token in RE_WORD.finditer(text.lower())]\n",
        "  # YOUR CODE HERE\n",
        "#   raise NotImplementedError()\n",
        "  tf=Counter(tokens)\n",
        "  return [(token, (id, tf[token])) for token in tf if token not in all_stopwords]\n",
        "\n",
        "def reduce_word_counts(unsorted_pl):\n",
        "  ''' Returns a sorted posting list by wiki_id.\n",
        "  Parameters:\n",
        "  -----------\n",
        "    unsorted_pl: list of tuples\n",
        "      A list of (wiki_id, tf) tuples \n",
        "  Returns:\n",
        "  --------\n",
        "    list of tuples\n",
        "      A sorted posting list.\n",
        "  '''\n",
        "  # YOUR CODE HERE\n",
        "  #raise NotImplementedError()\n",
        "  return sorted(unsorted_pl, key=lambda x: x[0])\n",
        "  \n",
        "def calculate_df(postings):\n",
        "  ''' Takes a posting list RDD and calculate the df for each token.\n",
        "  Parameters:\n",
        "  -----------\n",
        "    postings: RDD\n",
        "      An RDD where each element is a (token, posting_list) pair.\n",
        "  Returns:\n",
        "  --------\n",
        "    RDD\n",
        "      An RDD where each element is a (token, df) pair.\n",
        "  '''\n",
        "  # YOUR CODE HERE\n",
        "  #raise NotImplementedError()\n",
        "  return postings.map(lambda x: (x[0], len(x[1])))\n",
        "  \n",
        "def partition_postings_and_write(postings ):\n",
        "  ''' A function that partitions the posting lists into buckets, writes out \n",
        "  all posting lists in a bucket to disk, and returns the posting locations for \n",
        "  each bucket. Partitioning should be done through the use of `token2bucket` \n",
        "  above. Writing to disk should use the function  `write_a_posting_list`, a \n",
        "  static method implemented in inverted_index_colab.py under the InvertedIndex \n",
        "  class. \n",
        "  Parameters:\n",
        "  -----------\n",
        "    postings: RDD\n",
        "      An RDD where each item is a (w, posting_list) pair.\n",
        "  Returns:\n",
        "  --------\n",
        "    RDD\n",
        "      An RDD where each item is a posting locations dictionary for a bucket. The\n",
        "      posting locations maintain a list for each word of file locations and \n",
        "      offsets its posting list was written to. See `write_a_posting_list` for \n",
        "      more details.\n",
        "  '''\n",
        "  # YOUR CODE HERE\n",
        "  #raise NotImplementedError()\n",
        "  # partition the posting lists into buckets\n",
        "  postings = postings.map(lambda x: (token2bucket_id(x[0]), x))\n",
        "  # write out all posting lists in a bucket to disk\n",
        "  postings = postings.groupByKey()\n",
        "  postings = postings.map(lambda x: InvertedIndex.write_a_posting_list(x,bucket_name))\n",
        "  # return the posting locations for each bucket\n",
        "  return postings"
      ]
    },
    {
      "cell_type": "code",
      "execution_count": null,
      "id": "976c2136",
      "metadata": {
        "id": "976c2136"
      },
      "outputs": [],
      "source": [
        "def calculate_term_total(postings):\n",
        "    ''' Takes a posting list RDD and calculate the term total for each token.\n",
        "    Parameters:\n",
        "    -----------\n",
        "    postings: RDD\n",
        "        An RDD where each element is a (token, posting_list) pair.\n",
        "    Returns:\n",
        "    --------\n",
        "    RDD\n",
        "        An RDD where each element is a (token, term_total) pair.\n",
        "    '''\n",
        "    return postings.flatMapValues(lambda posting: [(doc_id, tf) for doc_id, tf in posting]).reduceByKey(lambda a,b: a+b)\n"
      ]
    },
    {
      "cell_type": "code",
      "execution_count": null,
      "id": "11261dca",
      "metadata": {
        "id": "11261dca"
      },
      "outputs": [],
      "source": [
        "def DL(text, id):\n",
        "    doc_length = len(list(filter(lambda x: x not in all_stopwords, [token.group() for token in RE_WORD.finditer(text.lower())])))\n",
        "    return (id, doc_length)\n"
      ]
    },
    {
      "cell_type": "code",
      "execution_count": null,
      "id": "3d503645",
      "metadata": {
        "id": "3d503645",
        "outputId": "14be9707-12b9-479a-ffdc-4874c89369c6"
      },
      "outputs": [
        {
          "name": "stderr",
          "output_type": "stream",
          "text": [
            "                                                                                \r"
          ]
        }
      ],
      "source": [
        "from pyspark.shell import spark\n",
        "\n",
        "parquetFile = spark.read.parquet(*paths)"
      ]
    },
    {
      "cell_type": "code",
      "execution_count": null,
      "id": "b84aa867",
      "metadata": {
        "id": "b84aa867",
        "outputId": "3cbee286-83d4-4978-d84e-4873b1d416da"
      },
      "outputs": [
        {
          "name": "stderr",
          "output_type": "stream",
          "text": [
            "                                                                                \r"
          ]
        },
        {
          "data": {
            "text/plain": [
              "6348910"
            ]
          },
          "execution_count": 16,
          "metadata": {},
          "output_type": "execute_result"
        }
      ],
      "source": [
        "parquetFile.count()\n"
      ]
    },
    {
      "cell_type": "markdown",
      "id": "771ba2b5",
      "metadata": {
        "id": "771ba2b5"
      },
      "source": [
        "## Title\n"
      ]
    },
    {
      "cell_type": "code",
      "execution_count": null,
      "id": "5dee472c",
      "metadata": {
        "id": "5dee472c"
      },
      "outputs": [],
      "source": [
        "doc_text_pairs_title = parquetFile.select(\"title\", \"id\").rdd"
      ]
    },
    {
      "cell_type": "code",
      "execution_count": null,
      "id": "173a4a1e",
      "metadata": {
        "id": "173a4a1e"
      },
      "outputs": [],
      "source": [
        "#title\n",
        "word_counts_title = doc_text_pairs_title.flatMap(lambda x: word_count(x[0], x[1]))\n",
        "postings_title = word_counts_title.groupByKey().mapValues(reduce_word_counts)"
      ]
    },
    {
      "cell_type": "code",
      "execution_count": null,
      "id": "d8c95dbe",
      "metadata": {
        "id": "d8c95dbe",
        "outputId": "1269078c-439d-4771-e6e8-686d8f2e902b"
      },
      "outputs": [
        {
          "name": "stderr",
          "output_type": "stream",
          "text": [
            "                                                                                \r"
          ]
        }
      ],
      "source": [
        "w2df_title = calculate_df(postings_title)\n",
        "w2df_dict = w2df_title.collectAsMap()\n",
        "\n",
        "w2terms = calculate_term_total(postings_title)\n",
        "dict_term_total = w2terms.collectAsMap()\n"
      ]
    },
    {
      "cell_type": "code",
      "execution_count": null,
      "id": "fd533e80",
      "metadata": {
        "id": "fd533e80",
        "outputId": "dc78fe50-f1e7-4f78-ddcf-fff4d4332019"
      },
      "outputs": [
        {
          "name": "stderr",
          "output_type": "stream",
          "text": [
            "                                                                                \r"
          ]
        }
      ],
      "source": [
        "# partition posting lists and write out\n",
        "_ = partition_postings_and_write(postings_title).collect()"
      ]
    },
    {
      "cell_type": "code",
      "execution_count": null,
      "id": "8c30429f",
      "metadata": {
        "id": "8c30429f"
      },
      "outputs": [],
      "source": [
        "# collect all posting lists locations into one super-set\n",
        "super_posting_locs_title = defaultdict(list)\n",
        "for blob in client.list_blobs(bucket_name, prefix='postings_gcp'):\n",
        "  if not blob.name.endswith(\"pickle\"):\n",
        "    continue\n",
        "  with blob.open(\"rb\") as f:\n",
        "    posting_locs = pickle.load(f)\n",
        "    for k, v in posting_locs.items():\n",
        "      super_posting_locs_title[k].extend(v)"
      ]
    },
    {
      "cell_type": "code",
      "source": [
        "# Create an instance of the InvertedIndex class\n",
        "inverted_title = InvertedIndex()\n",
        "\n",
        "# Add the posting locations for each token to the inverted index\n",
        "inverted_title.posting_locs = super_posting_locs_title\n",
        "\n",
        "# Add the term frequency (df) for each token to the inverted index\n",
        "inverted_title.df = w2df_dict\n",
        "\n",
        "# Add the total number of occurrences (term_total) for each token to the inverted index\n",
        "inverted_title.term_total=dict_term_total\n",
        "\n",
        "# Write the inverted index to a file in the specified directory with the given file name\n",
        "inverted_title.write_index('.', 'title_index')\n"
      ],
      "metadata": {
        "id": "aGUIo7WnoS9W"
      },
      "id": "aGUIo7WnoS9W",
      "execution_count": null,
      "outputs": []
    },
    {
      "cell_type": "code",
      "execution_count": null,
      "id": "f9c8353a",
      "metadata": {
        "id": "f9c8353a"
      },
      "outputs": [],
      "source": [
        "index_title=pd.read_pickle('/home/dataproc/title_index.pkl')"
      ]
    },
    {
      "cell_type": "code",
      "execution_count": null,
      "id": "26aa4ee4",
      "metadata": {
        "id": "26aa4ee4",
        "outputId": "b9ee561e-4102-4bf5-dfe2-8db6e8cf8432"
      },
      "outputs": [
        {
          "data": {
            "text/plain": [
              "1774265"
            ]
          },
          "execution_count": 26,
          "metadata": {},
          "output_type": "execute_result"
        }
      ],
      "source": [
        "len(index_title.df)"
      ]
    },
    {
      "cell_type": "markdown",
      "source": [
        "## creat dict - id - title\n"
      ],
      "metadata": {
        "id": "2_qcEMdqgEOV"
      },
      "id": "2_qcEMdqgEOV"
    },
    {
      "cell_type": "code",
      "source": [
        "#creat dict - id - title\n",
        "def create_title_dict(rdd):\n",
        "    title_dict_rdd = rdd.map(lambda x: (x['id'], x['title']))\n",
        "    return title_dict_rdd.collectAsMap()\n",
        "# save dictionary to pickle file\n",
        "title_dict = create_title_dict(doc_title_pairs)\n",
        "\n",
        "with open(\"title_id.pkl\", \"wb\") as file:\n",
        "    pickle.dump(title_id, file, pickle.HIGHEST_PROTOCOL)"
      ],
      "metadata": {
        "id": "mdXmb46nf_Ir"
      },
      "id": "mdXmb46nf_Ir",
      "execution_count": null,
      "outputs": []
    },
    {
      "cell_type": "markdown",
      "id": "f3ed2160",
      "metadata": {
        "id": "f3ed2160"
      },
      "source": [
        "## BODY"
      ]
    },
    {
      "cell_type": "code",
      "execution_count": null,
      "id": "a1fdf301",
      "metadata": {
        "id": "a1fdf301"
      },
      "outputs": [],
      "source": [
        "doc_text_pairs_body = parquetFile.select(\"text\", \"id\").rdd"
      ]
    },
    {
      "cell_type": "code",
      "execution_count": null,
      "id": "2998210e",
      "metadata": {
        "id": "2998210e"
      },
      "outputs": [],
      "source": [
        "word_counts_of_body = doc_text_pairs_body.flatMap(lambda x: word_count(x[0], x[1]))\n",
        "postings_body = word_counts_of_body.groupByKey().mapValues(reduce_word_counts)\n",
        "postings_filtered_body = postings_body.filter(lambda x: len(x[1])>50)"
      ]
    },
    {
      "cell_type": "code",
      "execution_count": null,
      "id": "c7cc15e9",
      "metadata": {
        "id": "c7cc15e9",
        "outputId": "5423df34-be12-4f76-8579-f509a2c31927"
      },
      "outputs": [
        {
          "name": "stderr",
          "output_type": "stream",
          "text": [
            "                                                                                \r"
          ]
        }
      ],
      "source": [
        "w2df_body = calculate_df(postings_filtered_body)\n",
        "w2df_body = w2df_body.collectAsMap()\n",
        "\n",
        "w2termsbody = calculate_term_total(postings_filtered_body)\n",
        "dict_term_total_body = w2termsbody.collectAsMap()\n",
        "\n",
        "\n",
        "_ = partition_postings_and_write(postings_filtered_body).collect()\n",
        "# collect all posting lists locations into one super-set\n",
        "super_posting_locs_body = defaultdict(list)\n",
        "for blob in client.list_blobs(bucket_name, prefix='postings_gcp'):\n",
        "  if not blob.name.endswith(\"pickle\"):\n",
        "    continue\n",
        "  with blob.open(\"rb\") as f:\n",
        "    posting_locs = pickle.load(f)\n",
        "    for k, v in posting_locs.items():\n",
        "      super_posting_locs_body[k].extend(v)"
      ]
    },
    {
      "cell_type": "code",
      "execution_count": null,
      "id": "74d7fba2",
      "metadata": {
        "id": "74d7fba2"
      },
      "outputs": [],
      "source": [
        "# Create an instance of the InvertedIndex class\n",
        "inverted_body = InvertedIndex()\n",
        "\n",
        "# Add the posting locations for each token to the inverted index\n",
        "inverted_body.posting_locs = super_posting_locs_body\n",
        "\n",
        "# Add the term frequency (df) for each token to the inverted index\n",
        "inverted_body.df = w2df_body\n",
        "\n",
        "# Add the total number of occurrences (term_total) for each token to the inverted index\n",
        "inverted_body.term_total = dict_term_total_body\n",
        "\n",
        "# Add the document length for each document to the inverted index\n",
        "inverted_body.DL=dl.collectAsMap()\n",
        "\n",
        "# Write the inverted index to a file in the current directory with the given file name\n",
        "inverted_body.write_index('.','body_index')\n"
      ]
    },
    {
      "cell_type": "markdown",
      "id": "1ccf6640",
      "metadata": {
        "id": "1ccf6640"
      },
      "source": [
        "## DL OF BODY"
      ]
    },
    {
      "cell_type": "code",
      "execution_count": null,
      "id": "9376e24c",
      "metadata": {
        "id": "9376e24c"
      },
      "outputs": [],
      "source": [
        "doc_text_DL = parquetFile.select(\"text\", \"id\").rdd"
      ]
    },
    {
      "cell_type": "code",
      "execution_count": null,
      "id": "e2de5b4d",
      "metadata": {
        "id": "e2de5b4d",
        "outputId": "9b08c489-5b64-43c6-d55a-c1c5b1e57cc2"
      },
      "outputs": [
        {
          "name": "stderr",
          "output_type": "stream",
          "text": [
            "                                                                                \r"
          ]
        }
      ],
      "source": [
        "doc2len = doc_text_DL.map(lambda x:DL(x[0],x[1]))\n",
        "dict_DL = doc2len.collectAsMap()"
      ]
    },
    {
      "cell_type": "code",
      "execution_count": null,
      "id": "431392ab",
      "metadata": {
        "id": "431392ab"
      },
      "outputs": [],
      "source": [
        "import pickle\n",
        "# Open a file to write the pickle to\n",
        "with open(\"dict_DL.pkl\", \"wb\") as pickle_file:\n",
        "    # Write the dictionary to the file\n",
        "    pickle.dump(dict_DL, pickle_file)"
      ]
    },
    {
      "cell_type": "markdown",
      "id": "fabec5e0",
      "metadata": {
        "id": "fabec5e0"
      },
      "source": [
        "## Anchor Text"
      ]
    },
    {
      "cell_type": "code",
      "execution_count": null,
      "id": "2d6a7fa7",
      "metadata": {
        "id": "2d6a7fa7"
      },
      "outputs": [],
      "source": [
        "doc_text_pairs_anchor_text=parquetFile.select(\"anchor_text\", \"id\").rdd"
      ]
    },
    {
      "cell_type": "code",
      "execution_count": null,
      "id": "a418af22",
      "metadata": {
        "id": "a418af22"
      },
      "outputs": [],
      "source": [
        "id2anchor=doc_text_pairs_anchor_text.flatMap(lambda x: x[0])\n",
        "id2text=id2anchor.distinct().groupByKey().mapValues(lambda x: \" \".join(x))"
      ]
    },
    {
      "cell_type": "code",
      "execution_count": null,
      "id": "7eafa576",
      "metadata": {
        "id": "7eafa576"
      },
      "outputs": [],
      "source": [
        "word_counts = id2text.flatMap(lambda x: word_count(x[1], x[0]))"
      ]
    },
    {
      "cell_type": "code",
      "execution_count": null,
      "id": "51d5cb80",
      "metadata": {
        "id": "51d5cb80"
      },
      "outputs": [],
      "source": [
        "postings = word_counts.groupByKey().mapValues(reduce_word_counts)"
      ]
    },
    {
      "cell_type": "code",
      "execution_count": null,
      "id": "3bf13be2",
      "metadata": {
        "id": "3bf13be2",
        "outputId": "944c29ba-cb93-48c1-fc14-daa700b5befc"
      },
      "outputs": [
        {
          "name": "stderr",
          "output_type": "stream",
          "text": [
            "                                                                                \r"
          ]
        }
      ],
      "source": [
        "w2df_d = calculate_df(postings)\n",
        "w2df_anchor = w2df_d.collectAsMap()"
      ]
    },
    {
      "cell_type": "code",
      "execution_count": null,
      "id": "5265bede",
      "metadata": {
        "id": "5265bede",
        "outputId": "cdd67261-2790-4b1f-856f-59054afbc3f9"
      },
      "outputs": [
        {
          "name": "stderr",
          "output_type": "stream",
          "text": [
            "                                                                                \r"
          ]
        }
      ],
      "source": [
        "w2termanchor = calculate_term_total(postings)\n",
        "dict_term_total_anchor = w2termanchor.collectAsMap()"
      ]
    },
    {
      "cell_type": "code",
      "execution_count": null,
      "id": "1c52a136",
      "metadata": {
        "id": "1c52a136",
        "outputId": "df33a138-5898-46b0-b1a7-c5fff8443982"
      },
      "outputs": [
        {
          "name": "stderr",
          "output_type": "stream",
          "text": [
            "                                                                                \r"
          ]
        }
      ],
      "source": [
        "_ = partition_postings_and_write(postings).collect()"
      ]
    },
    {
      "cell_type": "code",
      "execution_count": null,
      "id": "badcabb7",
      "metadata": {
        "id": "badcabb7"
      },
      "outputs": [],
      "source": [
        "super_posting_locs_ANCOR = defaultdict(list)\n",
        "for blob in client.list_blobs(bucket_name, prefix='postings_gcp'):\n",
        "  if not blob.name.endswith(\"pickle\"):\n",
        "    continue\n",
        "  with blob.open(\"rb\") as f:\n",
        "    posting_locs = pickle.load(f)\n",
        "    for k, v in posting_locs.items():\n",
        "      super_posting_locs_ANCOR[k].extend(v)"
      ]
    },
    {
      "cell_type": "code",
      "execution_count": null,
      "id": "a825f84e",
      "metadata": {
        "pycharm": {
          "name": "#%%\n"
        },
        "id": "a825f84e",
        "outputId": "dfe787b2-c5e4-4d87-f8b3-87c3ab014ce4"
      },
      "outputs": [
        {
          "name": "stdout",
          "output_type": "stream",
          "text": [
            "FINISH\n"
          ]
        }
      ],
      "source": [
        "# Create an instance of the InvertedIndex class\n",
        "inverted_index_anchor = InvertedIndex()\n",
        "\n",
        "# Add the posting locations for each token to the inverted index\n",
        "inverted_index_anchor.posting_locs = super_posting_locs_ANCOR\n",
        "\n",
        "# Add the term frequency (df) for each token to the inverted index\n",
        "inverted_index_anchor.df = w2df_anchor\n",
        "\n",
        "# Add the total number of occurrences (term_total) for each token to the inverted index\n",
        "inverted_index_anchor.term_total = dict_term_total_anchor\n",
        "\n",
        "# Write the inverted index to a file in the current directory with the given file name\n",
        "inverted_index_anchor.write_index('.','anchor_index')\n",
        "\n",
        "print('FINISH')"
      ]
    },
    {
      "cell_type": "markdown",
      "source": [
        "## page rank"
      ],
      "metadata": {
        "id": "kzfHzWUBfZ5N"
      },
      "id": "kzfHzWUBfZ5N"
    },
    {
      "cell_type": "code",
      "source": [
        "# Put your `generate_graph` function here\n",
        "def generate_graph(pages):\n",
        "  ''' Compute the directed graph generated by wiki links.\n",
        "  Parameters:\n",
        "  -----------\n",
        "    pages: RDD\n",
        "      An RDD where each row consists of one wikipedia articles with 'id' and \n",
        "      'anchor_text'.\n",
        "  Returns:\n",
        "  --------\n",
        "    edges: RDD\n",
        "      An RDD where each row represents an edge in the directed graph created by\n",
        "      the wikipedia links. The first entry should the source page id and the \n",
        "      second entry is the destination page id. No duplicates should be present. \n",
        "    vertices: RDD\n",
        "      An RDD where each row represents a vetrix (node) in the directed graph \n",
        "      created by the wikipedia links. No duplicates should be present. \n",
        "  '''\n",
        "  # YOUR CODE HERE\n",
        "  #raise NotImplementedError()\n",
        "  # compute the directed graph generated by wiki links\n",
        "  id_anchor = pages_links.mapValues(lambda item: [id for id, anchor_text in item])\n",
        "  # get the edges\n",
        "  edges = id_anchor.flatMap(lambda item: [(item[0], anchor_id) for anchor_id in item[1]])\n",
        "  #distinct edges\n",
        "  edges = edges.distinct()\n",
        "\n",
        "  vertices = edges.flatMap(lambda item: [i for i in item]).map(lambda item: (item,))\n",
        "  #distinct vertices\n",
        "  vertices = vertices.distinct()\n",
        "  return edges, vertices"
      ],
      "metadata": {
        "id": "XdwjGV6Ofg2e"
      },
      "id": "XdwjGV6Ofg2e",
      "execution_count": null,
      "outputs": []
    },
    {
      "cell_type": "code",
      "source": [
        "pages_links =  parquetFile.select(\"id\", \"anchor_text\").rdd\n",
        "# construct the graph \n",
        "edges, vertices = generate_graph(pages_links)\n",
        "# compute PageRank\n",
        "edgesDF = edges.toDF(['src', 'dst']).repartition(124, 'src')\n",
        "verticesDF = vertices.toDF(['id']).repartition(124, 'id')\n",
        "g = GraphFrame(verticesDF, edgesDF)\n",
        "pr_results = g.pageRank(resetProbability=0.15, maxIter=6)\n",
        "pr = pr_results.vertices.select(\"id\", \"pagerank\")\n",
        "pr = pr.sort(col('pagerank').desc())\n",
        "pr.repartition(1).write.csv(f'gs://{bucket_name}/pr', compression=\"gzip\")"
      ],
      "metadata": {
        "id": "uuikojceffk5"
      },
      "id": "uuikojceffk5",
      "execution_count": null,
      "outputs": []
    },
    {
      "cell_type": "code",
      "source": [
        "import gzip\n",
        "import pandas as pd\n",
        "\n",
        "# Open the gzipped file and read the contents\n",
        "with gzip.open('pagerank.csv.gz', 'rt') as f:\n",
        "    file_content = f.read()\n",
        "\n",
        "# Read the file content as a DataFrame\n",
        "df = pd.read_csv(file_content)\n",
        "\n",
        "# Create a dictionary using the values from column 0 as the keys and column 1 as the values\n",
        "df_dict = df.set_index(0).to_dict()[1]\n",
        "\n",
        "print(df_dict)"
      ],
      "metadata": {
        "id": "D6LfuojvfaVR"
      },
      "id": "D6LfuojvfaVR",
      "execution_count": null,
      "outputs": []
    },
    {
      "cell_type": "markdown",
      "source": [
        "## page views"
      ],
      "metadata": {
        "id": "BUOUh1b6fViV"
      },
      "id": "BUOUh1b6fViV"
    },
    {
      "cell_type": "code",
      "source": [
        "# Paths\n",
        "# Using user page views (as opposed to spiders and automated traffic) for the \n",
        "# month of August 2021\n",
        "pv_path = 'https://dumps.wikimedia.org/other/pageview_complete/monthly/2021/2021-08/pageviews-202108-user.bz2'\n",
        "p = Path(pv_path) \n",
        "pv_name = p.name\n",
        "pv_temp = f'{p.stem}-4dedup.txt'\n",
        "pv_clean = f'{p.stem}.pkl'\n",
        "# Download the file (2.3GB) \n",
        "!wget -N $pv_path\n",
        "# Filter for English pages, and keep just two fields: article ID (3) and monthly \n",
        "# total number of page views (5). Then, remove lines with article id or page \n",
        "# view values that are not a sequence of digits.\n",
        "!bzcat $pv_name | grep \"^en\\.wikipedia\" | cut -d' ' -f3,5 | grep -P \"^\\d+\\s\\d+$\" > $pv_temp\n",
        "# Create a Counter (dictionary) that sums up the pages views for the same \n",
        "# article, resulting in a mapping from article id to total page views.\n",
        "wid2pv = Counter()\n",
        "with open(pv_temp, 'rt') as f:\n",
        "  for line in f:\n",
        "    parts = line.split(' ')\n",
        "    wid2pv.update({int(parts[0]): int(parts[1])})\n",
        "# write out the counter as binary file (pickle it)\n",
        "with open(pv_clean, 'wb') as f:\n",
        "  pickle.dump(wid2pv, f)\n",
        "# read in the counter\n",
        "# with open(pv_clean, 'rb') as f:\n",
        "#   wid2pv = pickle.loads(f.read())"
      ],
      "metadata": {
        "id": "UH1THf90fV8d"
      },
      "id": "UH1THf90fV8d",
      "execution_count": null,
      "outputs": []
    }
  ],
  "metadata": {
    "kernelspec": {
      "display_name": "PySpark",
      "language": "python",
      "name": "pyspark"
    },
    "language_info": {
      "codemirror_mode": {
        "name": "ipython",
        "version": 3
      },
      "file_extension": ".py",
      "mimetype": "text/x-python",
      "name": "python",
      "nbconvert_exporter": "python",
      "pygments_lexer": "ipython3",
      "version": "3.8.15"
    },
    "colab": {
      "provenance": []
    }
  },
  "nbformat": 4,
  "nbformat_minor": 5
}